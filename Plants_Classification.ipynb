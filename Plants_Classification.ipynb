{
  "cells": [
    {
      "cell_type": "markdown",
      "metadata": {
        "id": "IWrKfuwcH3eW"
      },
      "source": [
        "# Plants Classification"
      ]
    },
    {
      "cell_type": "markdown",
      "metadata": {
        "id": "3bQ6ko0UHyC5"
      },
      "source": [
        "## Import Library"
      ]
    },
    {
      "cell_type": "code",
      "execution_count": 1,
      "metadata": {
        "id": "vilf93Q0Fiwb"
      },
      "outputs": [],
      "source": [
        "import numpy as np\n",
        "import pandas as pd\n",
        "import matplotlib.pyplot as plt\n",
        "import tensorflow as tf\n",
        "from tensorflow import keras\n",
        "from keras.layers import Conv2D, MaxPooling2D, Flatten, Dense, BatchNormalization, Dropout ,GlobalAveragePooling2D, Activation, Rescaling\n",
        "from keras.models import Sequential, Model\n",
        "from keras.preprocessing import image\n",
        "from keras.preprocessing.image import ImageDataGenerator\n",
        "from sklearn.metrics import confusion_matrix,classification_report\n",
        "from tensorflow.keras.applications import InceptionResNetV2, MobileNetV2\n",
        "from tensorflow.keras import regularizers\n",
        "import os, shutil\n",
        "import warnings\n",
        "warnings.filterwarnings('ignore')"
      ]
    },
    {
      "cell_type": "markdown",
      "metadata": {
        "id": "JyysaNbMH0_O"
      },
      "source": [
        "## Download Dataset"
      ]
    },
    {
      "cell_type": "code",
      "execution_count": 2,
      "metadata": {
        "colab": {
          "base_uri": "https://localhost:8080/"
        },
        "id": "jqlat_GOGOT5",
        "outputId": "8d83c474-b6b5-4acf-d8c8-0cd7a613351a"
      },
      "outputs": [
        {
          "output_type": "stream",
          "name": "stdout",
          "text": [
            "Please provide your Kaggle credentials to download this dataset. Learn more: http://bit.ly/kaggle-creds\n",
            "Your Kaggle username: afrizameidioandhana\n",
            "Your Kaggle Key: ··········\n",
            "Downloading plants-classification.zip to ./plants-classification\n"
          ]
        },
        {
          "output_type": "stream",
          "name": "stderr",
          "text": [
            "100%|██████████| 1.34G/1.34G [00:13<00:00, 103MB/s]\n"
          ]
        },
        {
          "output_type": "stream",
          "name": "stdout",
          "text": [
            "\n"
          ]
        }
      ],
      "source": [
        "!pip install -q opendatasets\n",
        "\n",
        "import opendatasets as od\n",
        "\n",
        "# insert your username and kaggle api key from kaggle.json file\n",
        "od.download('https://www.kaggle.com/datasets/marquis03/plants-classification')"
      ]
    },
    {
      "cell_type": "code",
      "execution_count": 3,
      "metadata": {
        "colab": {
          "base_uri": "https://localhost:8080/"
        },
        "id": "yx31Qa7OA0py",
        "outputId": "bea96897-e248-4bc5-9bec-4ad9916ddda1"
      },
      "outputs": [
        {
          "output_type": "stream",
          "name": "stdout",
          "text": [
            "Collecting split-folders\n",
            "  Downloading split_folders-0.5.1-py3-none-any.whl (8.4 kB)\n",
            "Installing collected packages: split-folders\n",
            "Successfully installed split-folders-0.5.1\n"
          ]
        }
      ],
      "source": [
        "pip install split-folders"
      ]
    },
    {
      "cell_type": "code",
      "source": [
        "output_path = '/content/dataset'\n",
        "data_path = '/content/plants-classification/train'\n",
        "\n",
        "# Folder yang dipilih\n",
        "selected_folders = ['aloevera', 'banana', 'pineapple','cassava', 'coconut', 'cucumber','papaya', 'corn', 'eggplant', 'watermelon', 'shallot', 'guava', 'mango','melon', 'orange']\n",
        "\n",
        "for folder in selected_folders:\n",
        "    # Path lengkap menuju folder saat ini di dataset asli\n",
        "    source_folder = os.path.join(data_path, folder)\n",
        "\n",
        "    # Path lengkap menuju folder di folder output\n",
        "    destination_folder = os.path.join(output_path, folder)\n",
        "\n",
        "    # Mengkopi folder dari dataset asli ke folder output\n",
        "    shutil.copytree(source_folder, destination_folder)\n",
        "\n",
        "print(\"Proses selesai.\")"
      ],
      "metadata": {
        "colab": {
          "base_uri": "https://localhost:8080/"
        },
        "id": "4ri4SKvMaKMy",
        "outputId": "2deb044a-7b99-40fa-dbea-9690bffd9496"
      },
      "execution_count": 17,
      "outputs": [
        {
          "output_type": "stream",
          "name": "stdout",
          "text": [
            "Proses selesai.\n"
          ]
        }
      ]
    },
    {
      "cell_type": "code",
      "execution_count": 26,
      "metadata": {
        "id": "Qqdpu4ZhdObM",
        "colab": {
          "base_uri": "https://localhost:8080/"
        },
        "outputId": "5a7a296f-419b-4842-cf34-915df6989b43"
      },
      "outputs": [
        {
          "output_type": "stream",
          "name": "stderr",
          "text": [
            "Copying files: 10500 files [00:10, 1038.16 files/s]\n"
          ]
        }
      ],
      "source": [
        "import splitfolders\n",
        "splitfolders.ratio('/content/dataset', output=\"plant_pict\", seed=1337, ratio=(0.8, 0.2))"
      ]
    },
    {
      "cell_type": "code",
      "execution_count": 27,
      "metadata": {
        "id": "wFPan0s5F1QG"
      },
      "outputs": [],
      "source": [
        "train_data = \"/content/plant_pict/train\"\n",
        "validation_data = \"/content/plant_pict/val\""
      ]
    },
    {
      "cell_type": "markdown",
      "metadata": {
        "id": "yVhzF9UrkUlF"
      },
      "source": [
        "## Augmentasi Gambar"
      ]
    },
    {
      "cell_type": "code",
      "execution_count": 28,
      "metadata": {
        "colab": {
          "base_uri": "https://localhost:8080/"
        },
        "id": "dvEv9g9uHxnw",
        "outputId": "9d901184-3ef8-43e8-d1ca-e9de779c6621"
      },
      "outputs": [
        {
          "output_type": "stream",
          "name": "stdout",
          "text": [
            "Found 8400 images belonging to 15 classes.\n",
            "Found 2100 images belonging to 15 classes.\n"
          ]
        }
      ],
      "source": [
        "train_gen = ImageDataGenerator( featurewise_center=False,\n",
        "                                samplewise_center=False,\n",
        "                                featurewise_std_normalization=False,\n",
        "                                samplewise_std_normalization=False,\n",
        "                                zca_whitening=False,\n",
        "                                rotation_range=10,\n",
        "                                zoom_range = 0.1,\n",
        "                                width_shift_range=0.2,\n",
        "                                height_shift_range=0.2,\n",
        "                                horizontal_flip=True,\n",
        "                                vertical_flip=False,\n",
        "                              )\n",
        "\n",
        "train_image_generator = train_gen.flow_from_directory(\n",
        "                                            train_data,\n",
        "                                            target_size=(150, 150),\n",
        "                                            batch_size=64,\n",
        "                                            class_mode='categorical')\n",
        "\n",
        "\n",
        "val_gen = ImageDataGenerator(   horizontal_flip=True,\n",
        "                                vertical_flip=False,)\n",
        "\n",
        "val_image_generator = val_gen.flow_from_directory(\n",
        "                                            validation_data,\n",
        "                                            target_size=(150, 150),\n",
        "                                            batch_size=64,\n",
        "                                            class_mode='categorical')"
      ]
    },
    {
      "cell_type": "code",
      "execution_count": 29,
      "metadata": {
        "id": "r7xKP7a6ERhc"
      },
      "outputs": [],
      "source": [
        "base_model = InceptionResNetV2(\n",
        "    weights=\"imagenet\",  # Load weights pre-trained on ImageNet.\n",
        "    input_shape=(150, 150, 3),\n",
        "    include_top=False,\n",
        ")\n",
        "\n",
        "# Freeze the base_model\n",
        "base_model.trainable = True"
      ]
    },
    {
      "cell_type": "markdown",
      "metadata": {
        "id": "1t9kxbYlkahZ"
      },
      "source": [
        "## CNN Model"
      ]
    },
    {
      "cell_type": "code",
      "execution_count": 30,
      "metadata": {
        "id": "f-CyIDEQIRKg"
      },
      "outputs": [],
      "source": [
        "model = tf.keras.models.Sequential([\n",
        "    Rescaling(scale=1 / 127.5, offset=-1),\n",
        "    base_model,\n",
        "    Conv2D(128, (3, 3), activation='relu', padding='same', input_shape=(None, None, 3)),\n",
        "    BatchNormalization(),\n",
        "    Activation('relu'),\n",
        "    MaxPooling2D(pool_size=(2, 2)),\n",
        "    GlobalAveragePooling2D(),\n",
        "    Flatten(),\n",
        "    Dense(64, kernel_regularizer=regularizers.l2(1e-4)),\n",
        "    BatchNormalization(),\n",
        "    Activation('relu'),\n",
        "    Dropout(0.2),\n",
        "    Dense(15, activation='softmax')\n",
        "])"
      ]
    },
    {
      "cell_type": "markdown",
      "source": [],
      "metadata": {
        "id": "uUBYz3NQgpNb"
      }
    },
    {
      "cell_type": "code",
      "execution_count": 31,
      "metadata": {
        "id": "RlXEi7mCJTDv"
      },
      "outputs": [],
      "source": [
        "model.compile(optimizer=tf.keras.optimizers.Adam(learning_rate=0.0001), loss='categorical_crossentropy', metrics='accuracy')"
      ]
    },
    {
      "cell_type": "markdown",
      "metadata": {
        "id": "E2MGE8yykdaQ"
      },
      "source": [
        "## Callback"
      ]
    },
    {
      "cell_type": "code",
      "execution_count": 32,
      "metadata": {
        "id": "rQIGtXDqJYKe"
      },
      "outputs": [],
      "source": [
        "class myCallback(tf.keras.callbacks.Callback):\n",
        "  def on_epoch_end(self, epoch, logs={}):\n",
        "    if(logs.get('accuracy')>0.92 and logs.get('val_accuracy')>0.92):\n",
        "      print(\"accuracy > 92% skala data\")\n",
        "      self.model.stop_training = True\n",
        "callbacks = myCallback()\n",
        "\n",
        "early_stopping = keras.callbacks.EarlyStopping(patience=3,monitor='val_loss',restore_best_weights=True)"
      ]
    },
    {
      "cell_type": "markdown",
      "metadata": {
        "id": "ZSdwtYWckfLi"
      },
      "source": [
        "## Model Train"
      ]
    },
    {
      "cell_type": "code",
      "execution_count": 33,
      "metadata": {
        "colab": {
          "base_uri": "https://localhost:8080/"
        },
        "id": "xhUzw3p4JZTo",
        "outputId": "cb295f8a-2319-4097-8ccb-c907bb575ffa"
      },
      "outputs": [
        {
          "output_type": "stream",
          "name": "stdout",
          "text": [
            "Epoch 1/50\n",
            "30/30 [==============================] - 123s 1s/step - loss: 2.6492 - accuracy: 0.1891 - val_loss: 2.6818 - val_accuracy: 0.3605\n",
            "Epoch 2/50\n",
            "30/30 [==============================] - 29s 935ms/step - loss: 1.8513 - accuracy: 0.4370 - val_loss: 1.6786 - val_accuracy: 0.5476\n",
            "Epoch 3/50\n",
            "30/30 [==============================] - 40s 1s/step - loss: 1.4382 - accuracy: 0.5984 - val_loss: 1.2232 - val_accuracy: 0.6600\n",
            "Epoch 4/50\n",
            "30/30 [==============================] - 29s 925ms/step - loss: 1.1611 - accuracy: 0.6995 - val_loss: 1.0104 - val_accuracy: 0.7267\n",
            "Epoch 5/50\n",
            "30/30 [==============================] - 29s 921ms/step - loss: 1.0138 - accuracy: 0.7484 - val_loss: 0.7914 - val_accuracy: 0.7924\n",
            "Epoch 6/50\n",
            "30/30 [==============================] - 30s 956ms/step - loss: 0.8373 - accuracy: 0.8010 - val_loss: 0.7347 - val_accuracy: 0.8081\n",
            "Epoch 7/50\n",
            "30/30 [==============================] - 40s 1s/step - loss: 0.8143 - accuracy: 0.8156 - val_loss: 0.6641 - val_accuracy: 0.8290\n",
            "Epoch 8/50\n",
            "30/30 [==============================] - 39s 1s/step - loss: 0.6997 - accuracy: 0.8339 - val_loss: 0.6237 - val_accuracy: 0.8381\n",
            "Epoch 9/50\n",
            "30/30 [==============================] - 40s 1s/step - loss: 0.6239 - accuracy: 0.8562 - val_loss: 0.6135 - val_accuracy: 0.8429\n",
            "Epoch 10/50\n",
            "30/30 [==============================] - 29s 921ms/step - loss: 0.5452 - accuracy: 0.8833 - val_loss: 0.5694 - val_accuracy: 0.8610\n",
            "Epoch 11/50\n",
            "30/30 [==============================] - 36s 1s/step - loss: 0.5433 - accuracy: 0.8809 - val_loss: 0.5408 - val_accuracy: 0.8676\n",
            "Epoch 12/50\n",
            "30/30 [==============================] - 30s 962ms/step - loss: 0.4708 - accuracy: 0.9005 - val_loss: 0.5038 - val_accuracy: 0.8814\n",
            "Epoch 13/50\n",
            "30/30 [==============================] - 29s 891ms/step - loss: 0.4486 - accuracy: 0.9006 - val_loss: 0.5085 - val_accuracy: 0.8795\n",
            "Epoch 14/50\n",
            "30/30 [==============================] - 39s 1s/step - loss: 0.4209 - accuracy: 0.9104 - val_loss: 0.4932 - val_accuracy: 0.8795\n",
            "Epoch 15/50\n",
            "30/30 [==============================] - 30s 932ms/step - loss: 0.3712 - accuracy: 0.9266 - val_loss: 0.4592 - val_accuracy: 0.8929\n",
            "Epoch 16/50\n",
            "30/30 [==============================] - 39s 1s/step - loss: 0.3885 - accuracy: 0.9203 - val_loss: 0.4560 - val_accuracy: 0.8948\n",
            "Epoch 17/50\n",
            "30/30 [==============================] - 39s 1s/step - loss: 0.3583 - accuracy: 0.9214 - val_loss: 0.4278 - val_accuracy: 0.9057\n",
            "Epoch 18/50\n",
            "30/30 [==============================] - 39s 1s/step - loss: 0.3413 - accuracy: 0.9297 - val_loss: 0.4029 - val_accuracy: 0.9067\n",
            "Epoch 19/50\n",
            "30/30 [==============================] - 30s 964ms/step - loss: 0.3071 - accuracy: 0.9402 - val_loss: 0.4152 - val_accuracy: 0.9043\n",
            "Epoch 20/50\n",
            "30/30 [==============================] - 29s 922ms/step - loss: 0.2647 - accuracy: 0.9573 - val_loss: 0.3966 - val_accuracy: 0.9100\n",
            "Epoch 21/50\n",
            "30/30 [==============================] - 38s 1s/step - loss: 0.2775 - accuracy: 0.9438 - val_loss: 0.3817 - val_accuracy: 0.9157\n",
            "Epoch 22/50\n",
            "30/30 [==============================] - 29s 932ms/step - loss: 0.2541 - accuracy: 0.9495 - val_loss: 0.3776 - val_accuracy: 0.9162\n",
            "Epoch 23/50\n",
            "30/30 [==============================] - 29s 930ms/step - loss: 0.2244 - accuracy: 0.9620 - val_loss: 0.3663 - val_accuracy: 0.9090\n",
            "Epoch 24/50\n",
            "30/30 [==============================] - 29s 924ms/step - loss: 0.2159 - accuracy: 0.9625 - val_loss: 0.3599 - val_accuracy: 0.9095\n",
            "Epoch 25/50\n",
            "30/30 [==============================] - 29s 914ms/step - loss: 0.2170 - accuracy: 0.9615 - val_loss: 0.3661 - val_accuracy: 0.9133\n",
            "Epoch 26/50\n",
            "30/30 [==============================] - ETA: 0s - loss: 0.2410 - accuracy: 0.9526accuracy > 92% skala data\n",
            "30/30 [==============================] - 34s 1s/step - loss: 0.2410 - accuracy: 0.9526 - val_loss: 0.3544 - val_accuracy: 0.9210\n"
          ]
        }
      ],
      "source": [
        "history = model.fit(train_image_generator,\n",
        "                 steps_per_epoch=30,\n",
        "                 epochs=50,\n",
        "                 verbose=1,\n",
        "                 validation_data=val_image_generator,\n",
        "                 callbacks=[callbacks],\n",
        "                 workers=4,\n",
        "                 batch_size=32\n",
        "                )"
      ]
    },
    {
      "cell_type": "markdown",
      "metadata": {
        "id": "teXEPv7mkiY9"
      },
      "source": [
        "## Evaluasi Model"
      ]
    },
    {
      "cell_type": "code",
      "execution_count": 34,
      "metadata": {
        "id": "IF-dx2zlK71e",
        "colab": {
          "base_uri": "https://localhost:8080/"
        },
        "outputId": "6e86477c-fc86-4ec5-a280-f474f5148c91"
      },
      "outputs": [
        {
          "output_type": "stream",
          "name": "stdout",
          "text": [
            "132/132 [==============================] - 70s 529ms/step - loss: 0.1389 - accuracy: 0.9760\n"
          ]
        },
        {
          "output_type": "execute_result",
          "data": {
            "text/plain": [
              "[0.13886378705501556, 0.9759523868560791]"
            ]
          },
          "metadata": {},
          "execution_count": 34
        }
      ],
      "source": [
        "model.evaluate(train_image_generator)"
      ]
    },
    {
      "cell_type": "code",
      "execution_count": 48,
      "metadata": {
        "id": "XuYzqvLbLAH5",
        "colab": {
          "base_uri": "https://localhost:8080/"
        },
        "outputId": "1bccf63d-e3b9-450c-bd8c-21706322b3df"
      },
      "outputs": [
        {
          "output_type": "stream",
          "name": "stdout",
          "text": [
            "33/33 [==============================] - 8s 238ms/step - loss: 0.3515 - accuracy: 0.9205\n"
          ]
        },
        {
          "output_type": "execute_result",
          "data": {
            "text/plain": [
              "[0.351490318775177, 0.9204761981964111]"
            ]
          },
          "metadata": {},
          "execution_count": 48
        }
      ],
      "source": [
        "model.evaluate(val_image_generator)"
      ]
    },
    {
      "cell_type": "code",
      "execution_count": 36,
      "metadata": {
        "id": "ZMxt-K46KgSt",
        "colab": {
          "base_uri": "https://localhost:8080/",
          "height": 447
        },
        "outputId": "d26f55bb-1c0f-4e98-cd33-92993e37af2a"
      },
      "outputs": [
        {
          "output_type": "execute_result",
          "data": {
            "text/plain": [
              "<Axes: >"
            ]
          },
          "metadata": {},
          "execution_count": 36
        },
        {
          "output_type": "display_data",
          "data": {
            "text/plain": [
              "<Figure size 640x480 with 1 Axes>"
            ],
            "image/png": "[encoded data removed]"
          },
          "metadata": {}
        }
      ],
      "source": [
        "pd.DataFrame(history.history).plot()"
      ]
    },
    {
      "cell_type": "markdown",
      "metadata": {
        "id": "O-cuMVoJkmQh"
      },
      "source": [
        "## Menyimpan Model"
      ]
    },
    {
      "cell_type": "code",
      "execution_count": 37,
      "metadata": {
        "id": "dDvAfErlkHbI",
        "colab": {
          "base_uri": "https://localhost:8080/"
        },
        "outputId": "add652f0-8cdd-4d5b-f6dd-420108b5876e"
      },
      "outputs": [
        {
          "output_type": "execute_result",
          "data": {
            "text/plain": [
              "224413140"
            ]
          },
          "metadata": {},
          "execution_count": 37
        }
      ],
      "source": [
        "import pathlib\n",
        "\n",
        "# Menyimpan model dalam format SavedModel\n",
        "export_dir = 'saved_model/'\n",
        "tf.saved_model.save(model, export_dir)\n",
        "\n",
        "# Convert SavedModel menjadi food.tflite\n",
        "converter = tf.lite.TFLiteConverter.from_saved_model(export_dir)\n",
        "tflite_model = converter.convert()\n",
        "\n",
        "tflite_model_file = pathlib.Path('plants.tflite')\n",
        "tflite_model_file.write_bytes(tflite_model)"
      ]
    },
    {
      "cell_type": "code",
      "source": [
        "%cd /content"
      ],
      "metadata": {
        "colab": {
          "base_uri": "https://localhost:8080/"
        },
        "id": "mtBKZpsgg-lh",
        "outputId": "dd678838-1eb2-4f78-ff17-334a83a1596d"
      },
      "execution_count": 39,
      "outputs": [
        {
          "output_type": "stream",
          "name": "stdout",
          "text": [
            "/content\n"
          ]
        }
      ]
    },
    {
      "cell_type": "code",
      "source": [
        "!zip -r plants_model.zip saved_model/"
      ],
      "metadata": {
        "colab": {
          "base_uri": "https://localhost:8080/"
        },
        "id": "dcbmFgByhFmA",
        "outputId": "89591f9b-85f3-4706-d918-8d74413d25dc"
      },
      "execution_count": 42,
      "outputs": [
        {
          "output_type": "stream",
          "name": "stdout",
          "text": [
            "  adding: saved_model/ (stored 0%)\n",
            "  adding: saved_model/fingerprint.pb (stored 0%)\n",
            "  adding: saved_model/variables/ (stored 0%)\n",
            "  adding: saved_model/variables/variables.data-00000-of-00001 (deflated 10%)\n",
            "  adding: saved_model/variables/variables.index (deflated 79%)\n",
            "  adding: saved_model/assets/ (stored 0%)\n",
            "  adding: saved_model/saved_model.pb (deflated 92%)\n"
          ]
        }
      ]
    },
    {
      "cell_type": "code",
      "source": [
        "from google.colab import files\n",
        "files.download('plants_model.zip')"
      ],
      "metadata": {
        "colab": {
          "base_uri": "https://localhost:8080/",
          "height": 34
        },
        "id": "kLy7x5llhI60",
        "outputId": "1ae652cb-76fc-4c1b-8dfe-b7afa298b332"
      },
      "execution_count": 43,
      "outputs": [
        {
          "output_type": "display_data",
          "data": {
            "text/plain": [
              "<IPython.core.display.Javascript object>"
            ],
            "application/javascript": [
              "\n",
              "    async function download(id, filename, size) {\n",
              "      if (!google.colab.kernel.accessAllowed) {\n",
              "        return;\n",
              "      }\n",
              "      const div = document.createElement('div');\n",
              "      const label = document.createElement('label');\n",
              "      label.textContent = `Downloading \"${filename}\": `;\n",
              "      div.appendChild(label);\n",
              "      const progress = document.createElement('progress');\n",
              "      progress.max = size;\n",
              "      div.appendChild(progress);\n",
              "      document.body.appendChild(div);\n",
              "\n",
              "      const buffers = [];\n",
              "      let downloaded = 0;\n",
              "\n",
              "      const channel = await google.colab.kernel.comms.open(id);\n",
              "      // Send a message to notify the kernel that we're ready.\n",
              "      channel.send({})\n",
              "\n",
              "      for await (const message of channel.messages) {\n",
              "        // Send a message to notify the kernel that we're ready.\n",
              "        channel.send({})\n",
              "        if (message.buffers) {\n",
              "          for (const buffer of message.buffers) {\n",
              "            buffers.push(buffer);\n",
              "            downloaded += buffer.byteLength;\n",
              "            progress.value = downloaded;\n",
              "          }\n",
              "        }\n",
              "      }\n",
              "      const blob = new Blob(buffers, {type: 'application/binary'});\n",
              "      const a = document.createElement('a');\n",
              "      a.href = window.URL.createObjectURL(blob);\n",
              "      a.download = filename;\n",
              "      div.appendChild(a);\n",
              "      a.click();\n",
              "      div.remove();\n",
              "    }\n",
              "  "
            ]
          },
          "metadata": {}
        },
        {
          "output_type": "display_data",
          "data": {
            "text/plain": [
              "<IPython.core.display.Javascript object>"
            ],
            "application/javascript": [
              "download(\"download_af505fe6-be59-4680-8bd2-5ac9b4e1e1fa\", \"plants_model.zip\", 609311543)"
            ]
          },
          "metadata": {}
        }
      ]
    }
  ],
  "metadata": {
    "accelerator": "GPU",
    "colab": {
      "provenance": []
    },
    "kernelspec": {
      "display_name": "Python 3",
      "name": "python3"
    },
    "language_info": {
      "name": "python"
    }
  },
  "nbformat": 4,
  "nbformat_minor": 0
}